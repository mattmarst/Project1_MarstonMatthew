{
 "cells": [
  {
   "cell_type": "code",
   "execution_count": 16,
   "metadata": {},
   "outputs": [
    {
     "name": "stdout",
     "output_type": "stream",
     "text": [
      "What operation would you like to use (Addition/Subtraction/Multiplication/Division)? DIVISION\n",
      "What is the dividend? 5\n",
      "What is the divisor? 2\n",
      "Your answer is 2.5\n"
     ]
    }
   ],
   "source": [
    "\n",
    "#Asks what operation and converts to lowercase\n",
    "operation = input(\"What operation would you like to use (Addition/Subtraction/Multiplication/Division)? \").lower()\n",
    "\n",
    "\n",
    "#Addition operation\n",
    "if operation == \"addition\":\n",
    "    addValueOne = input(\"What is the first value? \")\n",
    "    addValueTwo = input(\"What is the second value? \")\n",
    "    answer = int(addValueOne) + int(addValueTwo)\n",
    "\n",
    "#Subtraction operation\n",
    "elif operation == \"subtraction\":\n",
    "    subValueOne = input(\"What is the initial value? \")\n",
    "    subValueTwo = input(\"How much would you like to subtract? \")\n",
    "    answer = int(subValueOne) - int(subValueTwo)\n",
    "    \n",
    "#Multiplication operation\n",
    "elif operation == \"multiplication\":\n",
    "    multValueOne = input(\"What is the first value? \")\n",
    "    multValueTwo = input(\"What is the second value? \")\n",
    "    answer = int(multValueOne) * int(multValueTwo)\n",
    "    \n",
    "#Division operation\n",
    "elif operation == \"division\":\n",
    "    divValueOne = input(\"What is the dividend? \")\n",
    "    divValueTwo = input(\"What is the divisor? \")\n",
    "    answer = int(divValueOne) / int(divValueTwo)\n",
    "\n",
    "else:\n",
    "    print(\"Operation not supported or is spelled incorrectly.\")\n",
    "\n",
    "#Print answer    \n",
    "print(\"Your answer is \" + str(answer))"
   ]
  },
  {
   "cell_type": "code",
   "execution_count": null,
   "metadata": {},
   "outputs": [],
   "source": []
  }
 ],
 "metadata": {
  "kernelspec": {
   "display_name": "Python 3",
   "language": "python",
   "name": "python3"
  },
  "language_info": {
   "codemirror_mode": {
    "name": "ipython",
    "version": 3
   },
   "file_extension": ".py",
   "mimetype": "text/x-python",
   "name": "python",
   "nbconvert_exporter": "python",
   "pygments_lexer": "ipython3",
   "version": "3.8.5"
  }
 },
 "nbformat": 4,
 "nbformat_minor": 4
}
